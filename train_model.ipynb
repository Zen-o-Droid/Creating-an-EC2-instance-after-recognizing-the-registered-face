{
 "cells": [
  {
   "cell_type": "code",
   "execution_count": 2,
   "id": "cb8f83db",
   "metadata": {},
   "outputs": [
    {
     "name": "stdout",
     "output_type": "stream",
     "text": [
      "Model trained  And Saved Sucessefully....\n"
     ]
    }
   ],
   "source": [
    "import cv2\n",
    "import numpy as np\n",
    "import os\n",
    "import joblib\n",
    "from os import listdir\n",
    "from os.path  import isfile, join\n",
    "# Get training data we previously made\n",
    "data_path = './faces/usr1/'\n",
    "onlyfiles = [f for f in listdir(data_path) if isfile(join(data_path, f))]\n",
    "    # Create arrays from training data and labels\n",
    "Training_Data, Labels = [], []\n",
    "\n",
    "    # Open training images in our datapath\n",
    "    # Create a numpy array for training data\n",
    "for i, files in enumerate(onlyfiles):\n",
    "\n",
    "    image_path = data_path + onlyfiles[i]\n",
    "    images = cv2.imread(image_path, cv2.IMREAD_GRAYSCALE)\n",
    "    Training_Data.append(np.asarray(images, dtype=np.uint8))\n",
    "    ID=int(os.path.split(image_path)[-1].split(\".\")[1]) #getting the Id from the image\n",
    "\n",
    "    Labels.append(ID)\n",
    "    \n",
    "    # Create a numpy array for both training data and labels\n",
    "Labels = np.asarray(Labels, dtype=np.int32)\n",
    "\n",
    "    # Initialize facial recognizer\n",
    "#     model = cv2.face.createLBPHFaceRecognizer()\n",
    "    # NOTE: For OpenCV 3.0 use cv2.face.createLBPHFaceRecognizer()\n",
    "    #pip install opencv-contrib-python\n",
    "    # model = cv2.createLBPHFaceRecognizer()\n",
    "    \n",
    "abhi_model = cv2.face_LBPHFaceRecognizer.create()\n",
    "    # Let's train our model \n",
    "abhi_model.train(np.asarray(Training_Data), np.asarray(Labels))\n",
    "    # Save the model\n",
    "\n",
    "\n",
    "print(\"Model trained  And Saved Sucessefully....\")"
   ]
  },
  {
   "cell_type": "code",
   "execution_count": null,
   "id": "5f93d74c",
   "metadata": {},
   "outputs": [],
   "source": []
  }
 ],
 "metadata": {
  "kernelspec": {
   "display_name": "Python 3",
   "language": "python",
   "name": "python3"
  },
  "language_info": {
   "codemirror_mode": {
    "name": "ipython",
    "version": 3
   },
   "file_extension": ".py",
   "mimetype": "text/x-python",
   "name": "python",
   "nbconvert_exporter": "python",
   "pygments_lexer": "ipython3",
   "version": "3.8.8"
  }
 },
 "nbformat": 4,
 "nbformat_minor": 5
}
